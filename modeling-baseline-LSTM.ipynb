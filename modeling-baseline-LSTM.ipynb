{
 "cells": [
  {
   "cell_type": "code",
   "execution_count": 10,
   "metadata": {},
   "outputs": [],
   "source": [
    "import pandas as pd\n",
    "import matplotlib.pyplot as plt\n",
    "import seaborn as sns\n",
    "from matplotlib import rcParams\n",
    "import numpy as np\n",
    "from random import random\n",
    "from numpy import mean\n",
    "\n",
    "import sklearn.metrics as metrics\n",
    "from sklearn.metrics import mean_squared_error\n",
    "from sklearn.linear_model import SGDRegressor\n",
    "from sklearn.pipeline import make_pipeline\n",
    "from sklearn.preprocessing import StandardScaler\n",
    "import pytorch_lightning as pl\n",
    "from sklearn.preprocessing import MinMaxScaler\n",
    "\n",
    "import torch\n",
    "from torch import nn\n",
    "from torch.nn import functional as F\n",
    "from torch.utils.data import DataLoader\n",
    "from torch.utils.data import random_split\n",
    "from torchvision import transforms\n",
    "\n",
    "from pytorch_lightning import loggers as pl_loggers\n"
   ]
  },
  {
   "cell_type": "markdown",
   "metadata": {},
   "source": [
    "### Reading data"
   ]
  },
  {
   "cell_type": "code",
   "execution_count": 11,
   "metadata": {},
   "outputs": [
    {
     "name": "stderr",
     "output_type": "stream",
     "text": [
      "/Users/arushi/miniconda3/envs/pytorch/lib/python3.7/site-packages/IPython/core/interactiveshell.py:3072: DtypeWarning: Columns (4) have mixed types.Specify dtype option on import or set low_memory=False.\n",
      "  interactivity=interactivity, compiler=compiler, result=result)\n"
     ]
    },
    {
     "data": {
      "text/html": [
       "<div>\n",
       "<style scoped>\n",
       "    .dataframe tbody tr th:only-of-type {\n",
       "        vertical-align: middle;\n",
       "    }\n",
       "\n",
       "    .dataframe tbody tr th {\n",
       "        vertical-align: top;\n",
       "    }\n",
       "\n",
       "    .dataframe thead th {\n",
       "        text-align: right;\n",
       "    }\n",
       "</style>\n",
       "<table border=\"1\" class=\"dataframe\">\n",
       "  <thead>\n",
       "    <tr style=\"text-align: right;\">\n",
       "      <th></th>\n",
       "      <th>date</th>\n",
       "      <th>store_nbr</th>\n",
       "      <th>item_nbr</th>\n",
       "      <th>unit_sales</th>\n",
       "      <th>onpromotion</th>\n",
       "      <th>id</th>\n",
       "    </tr>\n",
       "  </thead>\n",
       "  <tbody>\n",
       "    <tr>\n",
       "      <th>0</th>\n",
       "      <td>2013-01-01</td>\n",
       "      <td>25</td>\n",
       "      <td>103665</td>\n",
       "      <td>7.0</td>\n",
       "      <td>NaN</td>\n",
       "      <td>NaN</td>\n",
       "    </tr>\n",
       "    <tr>\n",
       "      <th>1</th>\n",
       "      <td>2013-01-01</td>\n",
       "      <td>25</td>\n",
       "      <td>105574</td>\n",
       "      <td>1.0</td>\n",
       "      <td>NaN</td>\n",
       "      <td>NaN</td>\n",
       "    </tr>\n",
       "    <tr>\n",
       "      <th>2</th>\n",
       "      <td>2013-01-01</td>\n",
       "      <td>25</td>\n",
       "      <td>105575</td>\n",
       "      <td>2.0</td>\n",
       "      <td>NaN</td>\n",
       "      <td>NaN</td>\n",
       "    </tr>\n",
       "    <tr>\n",
       "      <th>3</th>\n",
       "      <td>2013-01-01</td>\n",
       "      <td>25</td>\n",
       "      <td>108079</td>\n",
       "      <td>1.0</td>\n",
       "      <td>NaN</td>\n",
       "      <td>NaN</td>\n",
       "    </tr>\n",
       "    <tr>\n",
       "      <th>4</th>\n",
       "      <td>2013-01-01</td>\n",
       "      <td>25</td>\n",
       "      <td>108701</td>\n",
       "      <td>1.0</td>\n",
       "      <td>NaN</td>\n",
       "      <td>NaN</td>\n",
       "    </tr>\n",
       "  </tbody>\n",
       "</table>\n",
       "</div>"
      ],
      "text/plain": [
       "         date  store_nbr  item_nbr  unit_sales onpromotion  id\n",
       "0  2013-01-01         25    103665         7.0         NaN NaN\n",
       "1  2013-01-01         25    105574         1.0         NaN NaN\n",
       "2  2013-01-01         25    105575         2.0         NaN NaN\n",
       "3  2013-01-01         25    108079         1.0         NaN NaN\n",
       "4  2013-01-01         25    108701         1.0         NaN NaN"
      ]
     },
     "execution_count": 11,
     "metadata": {},
     "output_type": "execute_result"
    }
   ],
   "source": [
    "train_test = pd.read_csv('train_test.csv')\n",
    "train_test.head()"
   ]
  },
  {
   "cell_type": "code",
   "execution_count": 12,
   "metadata": {},
   "outputs": [
    {
     "data": {
      "text/html": [
       "<div>\n",
       "<style scoped>\n",
       "    .dataframe tbody tr th:only-of-type {\n",
       "        vertical-align: middle;\n",
       "    }\n",
       "\n",
       "    .dataframe tbody tr th {\n",
       "        vertical-align: top;\n",
       "    }\n",
       "\n",
       "    .dataframe thead th {\n",
       "        text-align: right;\n",
       "    }\n",
       "</style>\n",
       "<table border=\"1\" class=\"dataframe\">\n",
       "  <thead>\n",
       "    <tr style=\"text-align: right;\">\n",
       "      <th></th>\n",
       "      <th>date</th>\n",
       "      <th>store_nbr</th>\n",
       "      <th>item_nbr</th>\n",
       "      <th>unit_sales</th>\n",
       "      <th>onpromotion</th>\n",
       "      <th>id</th>\n",
       "    </tr>\n",
       "  </thead>\n",
       "  <tbody>\n",
       "    <tr>\n",
       "      <th>0</th>\n",
       "      <td>2013-01-01</td>\n",
       "      <td>25</td>\n",
       "      <td>103665</td>\n",
       "      <td>7.0</td>\n",
       "      <td>NaN</td>\n",
       "      <td>NaN</td>\n",
       "    </tr>\n",
       "    <tr>\n",
       "      <th>1</th>\n",
       "      <td>2013-01-01</td>\n",
       "      <td>25</td>\n",
       "      <td>105574</td>\n",
       "      <td>1.0</td>\n",
       "      <td>NaN</td>\n",
       "      <td>NaN</td>\n",
       "    </tr>\n",
       "    <tr>\n",
       "      <th>2</th>\n",
       "      <td>2013-01-01</td>\n",
       "      <td>25</td>\n",
       "      <td>105575</td>\n",
       "      <td>2.0</td>\n",
       "      <td>NaN</td>\n",
       "      <td>NaN</td>\n",
       "    </tr>\n",
       "    <tr>\n",
       "      <th>3</th>\n",
       "      <td>2013-01-01</td>\n",
       "      <td>25</td>\n",
       "      <td>108079</td>\n",
       "      <td>1.0</td>\n",
       "      <td>NaN</td>\n",
       "      <td>NaN</td>\n",
       "    </tr>\n",
       "    <tr>\n",
       "      <th>4</th>\n",
       "      <td>2013-01-01</td>\n",
       "      <td>25</td>\n",
       "      <td>108701</td>\n",
       "      <td>1.0</td>\n",
       "      <td>NaN</td>\n",
       "      <td>NaN</td>\n",
       "    </tr>\n",
       "  </tbody>\n",
       "</table>\n",
       "</div>"
      ],
      "text/plain": [
       "         date  store_nbr  item_nbr  unit_sales onpromotion  id\n",
       "0  2013-01-01         25    103665         7.0         NaN NaN\n",
       "1  2013-01-01         25    105574         1.0         NaN NaN\n",
       "2  2013-01-01         25    105575         2.0         NaN NaN\n",
       "3  2013-01-01         25    108079         1.0         NaN NaN\n",
       "4  2013-01-01         25    108701         1.0         NaN NaN"
      ]
     },
     "execution_count": 12,
     "metadata": {},
     "output_type": "execute_result"
    }
   ],
   "source": [
    "train_test.head()"
   ]
  },
  {
   "cell_type": "code",
   "execution_count": 74,
   "metadata": {},
   "outputs": [
    {
     "name": "stderr",
     "output_type": "stream",
     "text": [
      "/Users/arushi/miniconda3/envs/pytorch/lib/python3.7/site-packages/IPython/core/interactiveshell.py:3072: DtypeWarning: Columns (4) have mixed types.Specify dtype option on import or set low_memory=False.\n",
      "  interactivity=interactivity, compiler=compiler, result=result)\n"
     ]
    },
    {
     "data": {
      "text/html": [
       "<div>\n",
       "<style scoped>\n",
       "    .dataframe tbody tr th:only-of-type {\n",
       "        vertical-align: middle;\n",
       "    }\n",
       "\n",
       "    .dataframe tbody tr th {\n",
       "        vertical-align: top;\n",
       "    }\n",
       "\n",
       "    .dataframe thead th {\n",
       "        text-align: right;\n",
       "    }\n",
       "</style>\n",
       "<table border=\"1\" class=\"dataframe\">\n",
       "  <thead>\n",
       "    <tr style=\"text-align: right;\">\n",
       "      <th></th>\n",
       "      <th>date</th>\n",
       "      <th>store_nbr</th>\n",
       "      <th>item_nbr</th>\n",
       "      <th>unit_sales</th>\n",
       "      <th>onpromotion</th>\n",
       "    </tr>\n",
       "  </thead>\n",
       "  <tbody>\n",
       "    <tr>\n",
       "      <th>0</th>\n",
       "      <td>2013-01-01</td>\n",
       "      <td>25</td>\n",
       "      <td>103665</td>\n",
       "      <td>7.0</td>\n",
       "      <td>NaN</td>\n",
       "    </tr>\n",
       "    <tr>\n",
       "      <th>1</th>\n",
       "      <td>2013-01-01</td>\n",
       "      <td>25</td>\n",
       "      <td>105574</td>\n",
       "      <td>1.0</td>\n",
       "      <td>NaN</td>\n",
       "    </tr>\n",
       "    <tr>\n",
       "      <th>2</th>\n",
       "      <td>2013-01-01</td>\n",
       "      <td>25</td>\n",
       "      <td>105575</td>\n",
       "      <td>2.0</td>\n",
       "      <td>NaN</td>\n",
       "    </tr>\n",
       "    <tr>\n",
       "      <th>3</th>\n",
       "      <td>2013-01-01</td>\n",
       "      <td>25</td>\n",
       "      <td>108079</td>\n",
       "      <td>1.0</td>\n",
       "      <td>NaN</td>\n",
       "    </tr>\n",
       "    <tr>\n",
       "      <th>4</th>\n",
       "      <td>2013-01-01</td>\n",
       "      <td>25</td>\n",
       "      <td>108701</td>\n",
       "      <td>1.0</td>\n",
       "      <td>NaN</td>\n",
       "    </tr>\n",
       "  </tbody>\n",
       "</table>\n",
       "</div>"
      ],
      "text/plain": [
       "         date  store_nbr  item_nbr  unit_sales onpromotion\n",
       "0  2013-01-01         25    103665         7.0         NaN\n",
       "1  2013-01-01         25    105574         1.0         NaN\n",
       "2  2013-01-01         25    105575         2.0         NaN\n",
       "3  2013-01-01         25    108079         1.0         NaN\n",
       "4  2013-01-01         25    108701         1.0         NaN"
      ]
     },
     "execution_count": 74,
     "metadata": {},
     "output_type": "execute_result"
    }
   ],
   "source": [
    "train_data = pd.read_csv('data/train.csv')\n",
    "train_data.head()"
   ]
  },
  {
   "cell_type": "markdown",
   "metadata": {},
   "source": [
    "### Reading the supplementary files"
   ]
  },
  {
   "cell_type": "code",
   "execution_count": 13,
   "metadata": {},
   "outputs": [],
   "source": [
    "oil = pd.read_csv('data/oil.csv')\n",
    "holidays = pd.read_csv('data/holidays_events.csv')\n",
    "items = pd.read_csv('data/items.csv')"
   ]
  },
  {
   "cell_type": "markdown",
   "metadata": {},
   "source": [
    "### Data Preprocessing"
   ]
  },
  {
   "cell_type": "code",
   "execution_count": 14,
   "metadata": {},
   "outputs": [],
   "source": [
    "def cartesian(df1, df2):\n",
    "    \"\"\"Determine Cartesian product of two data frames.\"\"\"\n",
    "    key = 'key'\n",
    "    while key in df1.columns or key in df2.columns:\n",
    "        key = '_' + key\n",
    "    key_d = {key: 0}\n",
    "    return pd.merge(\n",
    "        df1.assign(**key_d), df2.assign(**key_d), on=key).drop(key, axis=1)"
   ]
  },
  {
   "cell_type": "code",
   "execution_count": 22,
   "metadata": {},
   "outputs": [],
   "source": [
    "def data_preprocessing(df, holidays_events_df, oil_df, item_df, lag_days = [1,7,30], rolling_days = [7,30,60]):\n",
    "\n",
    "    # filter out items who has been sold for less than 1600 days\n",
    "    item_count = df.groupby('item_nbr')['unit_sales'].count()\n",
    "    items_to_keep = item_count[item_count > 1000].index\n",
    "    df = df.loc[df['item_nbr'].isin(items_to_keep)]\n",
    "\n",
    "    start_date = pd.to_datetime(df['date'].agg(['min', 'max'])['min'])\n",
    "    end_date = pd.to_datetime(df['date'].agg(['min', 'max'])['max'])\n",
    "    date_df = pd.DataFrame()\n",
    "    date_df['date'] = pd.date_range(start=start_date, end= end_date)\n",
    "    date_df['date'] = pd.to_datetime(date_df['date'])\n",
    "    unique_store_df = pd.DataFrame({'store_nbr' : df['store_nbr'].unique()})\n",
    "    unique_item_df = pd.DataFrame({'item_nbr' : df['item_nbr'].unique()})\n",
    "      \n",
    "    date_df = cartesian(date_df, unique_store_df)\n",
    "    date_df = cartesian(date_df, unique_item_df)\n",
    "\n",
    "    df['date'] = pd.to_datetime(df['date'])\n",
    "    df = date_df.merge(df, how = 'left', on = ['date', 'store_nbr', 'item_nbr'])\n",
    "\n",
    "    \n",
    "    # filling NA values in onpromotion and doing one-hot encoding\n",
    "    df['onpromotion'] = df['onpromotion'].fillna(\"Not Mentioned\")\n",
    "    df_promo = pd.get_dummies(df['onpromotion'])\n",
    "    df_promo = df_promo.rename(columns={True: \"promoted\", False: \"not_promoted\"})\n",
    "    df = pd.concat([df, df_promo], axis = 1)\n",
    "    df = df.drop(['onpromotion'], axis=1)\n",
    "    \n",
    "    # creating date features\n",
    "    df['date'] = pd.to_datetime(df['date'])\n",
    "    df['day_of_month'] = df['date'].dt.day\n",
    "    df['day_of_week'] = df['date'].dt.dayofweek\n",
    "    df['day_of_year'] = df['date'].dt.dayofyear\n",
    "    df['month'] = df['date'].dt.month\n",
    "    df['year'] = df['date'].dt.year\n",
    "    df['is_weekend'] = (df['day_of_week']>=5).astype(np.int8)\n",
    "\n",
    "    # Handling nan values Unit sales \n",
    "    df['unit_sales'] = df.groupby(['store_nbr', 'item_nbr', 'day_of_week'])['unit_sales'].ffill()\n",
    "    df['unit_sales'] = df.groupby(['store_nbr', 'item_nbr'])['unit_sales'].transform(lambda x: x.fillna(x.mean()))\n",
    "\n",
    "\n",
    "    # creating Lag features\n",
    "    SHIFT = 15\n",
    "    for l in lag_days:\n",
    "        df['lag_{}'.format(l)] = df.groupby(['store_nbr', 'item_nbr', 'day_of_week'])['unit_sales'].transform(lambda x: x.shift(SHIFT+l))\n",
    "\n",
    "    # Rolling features\n",
    "    for r in rolling_days:\n",
    "        df['rolling_mean_{}'.format(r)] = df.groupby(['store_nbr', 'item_nbr', 'day_of_week'])['unit_sales'].transform(lambda x: x.shift(SHIFT).rolling(r, min_periods = 1).mean())\n",
    "\n",
    "    \n",
    "    # merging oil_df and getting oil prices from that\n",
    "    oil_df['date'] = pd.to_datetime(oil_df['date'])\n",
    "    oil_df = oil_df.rename(columns={\"dcoilwtico\": \"oil_price\"})\n",
    "    df = df.merge(oil_df, how = 'left', on = 'date')\n",
    "    \n",
    "    # Filling the missing values of oil prices from the price of the previous row\n",
    "    df['oil_price'] = df[\"oil_price\"].fillna(axis = 0,method = 'ffill')\n",
    "    # To fill the oil prices for first day, we will copy the mean price from the second day.\n",
    "    oil_price = df[df.date == '2013-01-02']['oil_price']\n",
    "    oil_price = round(np.mean(oil_price), 2)\n",
    "    df['oil_price'] = df['oil_price'].fillna(oil_price)\n",
    "\n",
    "\n",
    "    # merging holiday_df\n",
    "    holidays_events_df['date'] = pd.to_datetime(holidays_events_df['date'])\n",
    "    holidays_events_df['type'] = holidays_events_df['type'].replace(['Additional','Bridge','Event', 'Transfer'], 'Holiday')\n",
    "    holidays_events_df = holidays_events_df.drop(['locale', 'locale_name','description','transferred'], axis=1)\n",
    "    holidays_events_df = holidays_events_df.rename(columns={\"type\": \"day_type\"})\n",
    "    df = df.merge(holidays_events_df[['date', 'day_type']], how = 'left', on = 'date')\n",
    "    df['day_type'].fillna(False, inplace = True)\n",
    "    df['day_type'] = df['day_type'].astype(bool).astype(int)\n",
    "\n",
    "    # merging items to include item family\n",
    "    item_df = item_df[['item_nbr', 'family']]\n",
    "    item_df['family'] = item_df['family'].replace(['HOME AND KITCHEN I','HOME AND KITCHEN II','CELEBRATION',\n",
    "                                             'AUTOMOTIVE', 'LINGERIE', 'GROCERY II', 'SEAFOOD',\n",
    "                                             'PLAYERS AND ELECTRONICS', 'LADIESWEAR', 'BEAUTY', 'PET SUPPLIES',\n",
    "                                            'LAWN AND GARDEN', 'MAGAZINES', 'HARDWARE',\n",
    "                                             'SCHOOL AND OFFICE SUPPLIES', 'HOME APPLIANCES', 'BABY CARE',\n",
    "                                            'BOOKS'], 'Others')\n",
    "    family_df = pd.get_dummies(item_df['family'])\n",
    "    item_df = pd.concat([item_df, family_df], axis = 1)\n",
    "    df = pd.merge(df, item_df, on = 'item_nbr', how = 'left')\n",
    "    df = df.drop(['item_nbr', 'store_nbr', 'family'], axis=1)\n",
    "\n",
    "    return df"
   ]
  },
  {
   "cell_type": "markdown",
   "metadata": {},
   "source": [
    "### Filtering data based on store"
   ]
  },
  {
   "cell_type": "code",
   "execution_count": 23,
   "metadata": {},
   "outputs": [],
   "source": [
    "# Select the store for which you want to predict unit sales \n",
    "\n",
    "selected_store = train_test.loc[train_test['store_nbr'] == 3]"
   ]
  },
  {
   "cell_type": "code",
   "execution_count": 24,
   "metadata": {},
   "outputs": [
    {
     "data": {
      "text/html": [
       "<div>\n",
       "<style scoped>\n",
       "    .dataframe tbody tr th:only-of-type {\n",
       "        vertical-align: middle;\n",
       "    }\n",
       "\n",
       "    .dataframe tbody tr th {\n",
       "        vertical-align: top;\n",
       "    }\n",
       "\n",
       "    .dataframe thead th {\n",
       "        text-align: right;\n",
       "    }\n",
       "</style>\n",
       "<table border=\"1\" class=\"dataframe\">\n",
       "  <thead>\n",
       "    <tr style=\"text-align: right;\">\n",
       "      <th></th>\n",
       "      <th>date</th>\n",
       "      <th>store_nbr</th>\n",
       "      <th>item_nbr</th>\n",
       "      <th>unit_sales</th>\n",
       "      <th>onpromotion</th>\n",
       "      <th>id</th>\n",
       "    </tr>\n",
       "  </thead>\n",
       "  <tbody>\n",
       "    <tr>\n",
       "      <th>2699</th>\n",
       "      <td>2013-01-02</td>\n",
       "      <td>3</td>\n",
       "      <td>103665</td>\n",
       "      <td>6.0</td>\n",
       "      <td>NaN</td>\n",
       "      <td>NaN</td>\n",
       "    </tr>\n",
       "    <tr>\n",
       "      <th>2700</th>\n",
       "      <td>2013-01-02</td>\n",
       "      <td>3</td>\n",
       "      <td>105574</td>\n",
       "      <td>36.0</td>\n",
       "      <td>NaN</td>\n",
       "      <td>NaN</td>\n",
       "    </tr>\n",
       "    <tr>\n",
       "      <th>2701</th>\n",
       "      <td>2013-01-02</td>\n",
       "      <td>3</td>\n",
       "      <td>105575</td>\n",
       "      <td>21.0</td>\n",
       "      <td>NaN</td>\n",
       "      <td>NaN</td>\n",
       "    </tr>\n",
       "    <tr>\n",
       "      <th>2702</th>\n",
       "      <td>2013-01-02</td>\n",
       "      <td>3</td>\n",
       "      <td>105577</td>\n",
       "      <td>6.0</td>\n",
       "      <td>NaN</td>\n",
       "      <td>NaN</td>\n",
       "    </tr>\n",
       "    <tr>\n",
       "      <th>2703</th>\n",
       "      <td>2013-01-02</td>\n",
       "      <td>3</td>\n",
       "      <td>105693</td>\n",
       "      <td>2.0</td>\n",
       "      <td>NaN</td>\n",
       "      <td>NaN</td>\n",
       "    </tr>\n",
       "  </tbody>\n",
       "</table>\n",
       "</div>"
      ],
      "text/plain": [
       "            date  store_nbr  item_nbr  unit_sales onpromotion  id\n",
       "2699  2013-01-02          3    103665         6.0         NaN NaN\n",
       "2700  2013-01-02          3    105574        36.0         NaN NaN\n",
       "2701  2013-01-02          3    105575        21.0         NaN NaN\n",
       "2702  2013-01-02          3    105577         6.0         NaN NaN\n",
       "2703  2013-01-02          3    105693         2.0         NaN NaN"
      ]
     },
     "execution_count": 24,
     "metadata": {},
     "output_type": "execute_result"
    }
   ],
   "source": [
    "selected_store.head()"
   ]
  },
  {
   "cell_type": "code",
   "execution_count": 25,
   "metadata": {},
   "outputs": [
    {
     "name": "stderr",
     "output_type": "stream",
     "text": [
      "/Users/arushi/miniconda3/envs/pytorch/lib/python3.7/site-packages/ipykernel_launcher.py:19: SettingWithCopyWarning: \n",
      "A value is trying to be set on a copy of a slice from a DataFrame.\n",
      "Try using .loc[row_indexer,col_indexer] = value instead\n",
      "\n",
      "See the caveats in the documentation: https://pandas.pydata.org/pandas-docs/stable/user_guide/indexing.html#returning-a-view-versus-a-copy\n",
      "/Users/arushi/miniconda3/envs/pytorch/lib/python3.7/site-packages/ipykernel_launcher.py:83: SettingWithCopyWarning: \n",
      "A value is trying to be set on a copy of a slice from a DataFrame.\n",
      "Try using .loc[row_indexer,col_indexer] = value instead\n",
      "\n",
      "See the caveats in the documentation: https://pandas.pydata.org/pandas-docs/stable/user_guide/indexing.html#returning-a-view-versus-a-copy\n"
     ]
    },
    {
     "data": {
      "text/html": [
       "<div>\n",
       "<style scoped>\n",
       "    .dataframe tbody tr th:only-of-type {\n",
       "        vertical-align: middle;\n",
       "    }\n",
       "\n",
       "    .dataframe tbody tr th {\n",
       "        vertical-align: top;\n",
       "    }\n",
       "\n",
       "    .dataframe thead th {\n",
       "        text-align: right;\n",
       "    }\n",
       "</style>\n",
       "<table border=\"1\" class=\"dataframe\">\n",
       "  <thead>\n",
       "    <tr style=\"text-align: right;\">\n",
       "      <th></th>\n",
       "      <th>date</th>\n",
       "      <th>unit_sales</th>\n",
       "      <th>id</th>\n",
       "      <th>not_promoted</th>\n",
       "      <th>promoted</th>\n",
       "      <th>Not Mentioned</th>\n",
       "      <th>day_of_month</th>\n",
       "      <th>day_of_week</th>\n",
       "      <th>day_of_year</th>\n",
       "      <th>month</th>\n",
       "      <th>...</th>\n",
       "      <th>FROZEN FOODS</th>\n",
       "      <th>GROCERY I</th>\n",
       "      <th>HOME CARE</th>\n",
       "      <th>LIQUOR,WINE,BEER</th>\n",
       "      <th>MEATS</th>\n",
       "      <th>Others</th>\n",
       "      <th>PERSONAL CARE</th>\n",
       "      <th>POULTRY</th>\n",
       "      <th>PREPARED FOODS</th>\n",
       "      <th>PRODUCE</th>\n",
       "    </tr>\n",
       "  </thead>\n",
       "  <tbody>\n",
       "    <tr>\n",
       "      <th>0</th>\n",
       "      <td>2013-01-02</td>\n",
       "      <td>6.0</td>\n",
       "      <td>NaN</td>\n",
       "      <td>0</td>\n",
       "      <td>0</td>\n",
       "      <td>1</td>\n",
       "      <td>2</td>\n",
       "      <td>2</td>\n",
       "      <td>2</td>\n",
       "      <td>1</td>\n",
       "      <td>...</td>\n",
       "      <td>0</td>\n",
       "      <td>0</td>\n",
       "      <td>0</td>\n",
       "      <td>0</td>\n",
       "      <td>0</td>\n",
       "      <td>0</td>\n",
       "      <td>0</td>\n",
       "      <td>0</td>\n",
       "      <td>0</td>\n",
       "      <td>0</td>\n",
       "    </tr>\n",
       "    <tr>\n",
       "      <th>1</th>\n",
       "      <td>2013-01-02</td>\n",
       "      <td>36.0</td>\n",
       "      <td>NaN</td>\n",
       "      <td>0</td>\n",
       "      <td>0</td>\n",
       "      <td>1</td>\n",
       "      <td>2</td>\n",
       "      <td>2</td>\n",
       "      <td>2</td>\n",
       "      <td>1</td>\n",
       "      <td>...</td>\n",
       "      <td>0</td>\n",
       "      <td>1</td>\n",
       "      <td>0</td>\n",
       "      <td>0</td>\n",
       "      <td>0</td>\n",
       "      <td>0</td>\n",
       "      <td>0</td>\n",
       "      <td>0</td>\n",
       "      <td>0</td>\n",
       "      <td>0</td>\n",
       "    </tr>\n",
       "    <tr>\n",
       "      <th>2</th>\n",
       "      <td>2013-01-02</td>\n",
       "      <td>21.0</td>\n",
       "      <td>NaN</td>\n",
       "      <td>0</td>\n",
       "      <td>0</td>\n",
       "      <td>1</td>\n",
       "      <td>2</td>\n",
       "      <td>2</td>\n",
       "      <td>2</td>\n",
       "      <td>1</td>\n",
       "      <td>...</td>\n",
       "      <td>0</td>\n",
       "      <td>1</td>\n",
       "      <td>0</td>\n",
       "      <td>0</td>\n",
       "      <td>0</td>\n",
       "      <td>0</td>\n",
       "      <td>0</td>\n",
       "      <td>0</td>\n",
       "      <td>0</td>\n",
       "      <td>0</td>\n",
       "    </tr>\n",
       "    <tr>\n",
       "      <th>3</th>\n",
       "      <td>2013-01-02</td>\n",
       "      <td>6.0</td>\n",
       "      <td>NaN</td>\n",
       "      <td>0</td>\n",
       "      <td>0</td>\n",
       "      <td>1</td>\n",
       "      <td>2</td>\n",
       "      <td>2</td>\n",
       "      <td>2</td>\n",
       "      <td>1</td>\n",
       "      <td>...</td>\n",
       "      <td>0</td>\n",
       "      <td>1</td>\n",
       "      <td>0</td>\n",
       "      <td>0</td>\n",
       "      <td>0</td>\n",
       "      <td>0</td>\n",
       "      <td>0</td>\n",
       "      <td>0</td>\n",
       "      <td>0</td>\n",
       "      <td>0</td>\n",
       "    </tr>\n",
       "    <tr>\n",
       "      <th>4</th>\n",
       "      <td>2013-01-02</td>\n",
       "      <td>2.0</td>\n",
       "      <td>NaN</td>\n",
       "      <td>0</td>\n",
       "      <td>0</td>\n",
       "      <td>1</td>\n",
       "      <td>2</td>\n",
       "      <td>2</td>\n",
       "      <td>2</td>\n",
       "      <td>1</td>\n",
       "      <td>...</td>\n",
       "      <td>0</td>\n",
       "      <td>1</td>\n",
       "      <td>0</td>\n",
       "      <td>0</td>\n",
       "      <td>0</td>\n",
       "      <td>0</td>\n",
       "      <td>0</td>\n",
       "      <td>0</td>\n",
       "      <td>0</td>\n",
       "      <td>0</td>\n",
       "    </tr>\n",
       "  </tbody>\n",
       "</table>\n",
       "<p>5 rows × 36 columns</p>\n",
       "</div>"
      ],
      "text/plain": [
       "        date  unit_sales  id  not_promoted  promoted  Not Mentioned  \\\n",
       "0 2013-01-02         6.0 NaN             0         0              1   \n",
       "1 2013-01-02        36.0 NaN             0         0              1   \n",
       "2 2013-01-02        21.0 NaN             0         0              1   \n",
       "3 2013-01-02         6.0 NaN             0         0              1   \n",
       "4 2013-01-02         2.0 NaN             0         0              1   \n",
       "\n",
       "   day_of_month  day_of_week  day_of_year  month  ...  FROZEN FOODS  \\\n",
       "0             2            2            2      1  ...             0   \n",
       "1             2            2            2      1  ...             0   \n",
       "2             2            2            2      1  ...             0   \n",
       "3             2            2            2      1  ...             0   \n",
       "4             2            2            2      1  ...             0   \n",
       "\n",
       "   GROCERY I  HOME CARE  LIQUOR,WINE,BEER  MEATS  Others  PERSONAL CARE  \\\n",
       "0          0          0                 0      0       0              0   \n",
       "1          1          0                 0      0       0              0   \n",
       "2          1          0                 0      0       0              0   \n",
       "3          1          0                 0      0       0              0   \n",
       "4          1          0                 0      0       0              0   \n",
       "\n",
       "   POULTRY  PREPARED FOODS  PRODUCE  \n",
       "0        0               0        0  \n",
       "1        0               0        0  \n",
       "2        0               0        0  \n",
       "3        0               0        0  \n",
       "4        0               0        0  \n",
       "\n",
       "[5 rows x 36 columns]"
      ]
     },
     "execution_count": 25,
     "metadata": {},
     "output_type": "execute_result"
    }
   ],
   "source": [
    "data = data_preprocessing(selected_store, holidays, oil, items, lag_days = [1,7,30], rolling_days = [7,30,60])\n",
    "data.head()"
   ]
  },
  {
   "cell_type": "code",
   "execution_count": 26,
   "metadata": {},
   "outputs": [
    {
     "data": {
      "text/plain": [
       "2365712"
      ]
     },
     "execution_count": 26,
     "metadata": {},
     "output_type": "execute_result"
    }
   ],
   "source": [
    "len(data)"
   ]
  },
  {
   "cell_type": "code",
   "execution_count": 132,
   "metadata": {},
   "outputs": [
    {
     "data": {
      "text/plain": [
       "id                  1958904\n",
       "lag_30               396198\n",
       "lag_7                192510\n",
       "lag_1                139104\n",
       "rolling_mean_60      130410\n",
       "rolling_mean_7       130410\n",
       "rolling_mean_30      130410\n",
       "day_of_month              0\n",
       "day_of_week               0\n",
       "PREPARED FOODS            0\n",
       "month                     0\n",
       "year                      0\n",
       "is_weekend                0\n",
       "Not Mentioned             0\n",
       "promoted                  0\n",
       "not_promoted              0\n",
       "unit_sales                0\n",
       "day_of_year               0\n",
       "PRODUCE                   0\n",
       "oil_price                 0\n",
       "GROCERY I                 0\n",
       "POULTRY                   0\n",
       "PERSONAL CARE             0\n",
       "Others                    0\n",
       "MEATS                     0\n",
       "LIQUOR,WINE,BEER          0\n",
       "HOME CARE                 0\n",
       "FROZEN FOODS              0\n",
       "day_type                  0\n",
       "EGGS                      0\n",
       "DELI                      0\n",
       "DAIRY                     0\n",
       "CLEANING                  0\n",
       "BREAD/BAKERY              0\n",
       "BEVERAGES                 0\n",
       "date                      0\n",
       "dtype: int64"
      ]
     },
     "execution_count": 132,
     "metadata": {},
     "output_type": "execute_result"
    }
   ],
   "source": [
    "data.isnull().sum().sort_values(ascending=False)"
   ]
  },
  {
   "cell_type": "code",
   "execution_count": 27,
   "metadata": {},
   "outputs": [
    {
     "name": "stderr",
     "output_type": "stream",
     "text": [
      "/Users/arushi/miniconda3/envs/pytorch/lib/python3.7/site-packages/ipykernel_launcher.py:1: FutureWarning: The pandas.datetime class is deprecated and will be removed from pandas in a future version. Import from datetime module instead.\n",
      "  \"\"\"Entry point for launching an IPython kernel.\n"
     ]
    }
   ],
   "source": [
    "data = data.loc[(data['date'] > pd.datetime(2014,1,1)) & (data['date'] < pd.datetime(2017,5,1))]\n",
    "data = data.drop(['id'], axis = 1)"
   ]
  },
  {
   "cell_type": "code",
   "execution_count": 28,
   "metadata": {},
   "outputs": [
    {
     "data": {
      "text/plain": [
       "date                0\n",
       "unit_sales          0\n",
       "not_promoted        0\n",
       "promoted            0\n",
       "Not Mentioned       0\n",
       "day_of_month        0\n",
       "day_of_week         0\n",
       "day_of_year         0\n",
       "month               0\n",
       "year                0\n",
       "is_weekend          0\n",
       "lag_1               0\n",
       "lag_7               0\n",
       "lag_30              0\n",
       "rolling_mean_7      0\n",
       "rolling_mean_30     0\n",
       "rolling_mean_60     0\n",
       "oil_price           0\n",
       "day_type            0\n",
       "BEVERAGES           0\n",
       "BREAD/BAKERY        0\n",
       "CLEANING            0\n",
       "DAIRY               0\n",
       "DELI                0\n",
       "EGGS                0\n",
       "FROZEN FOODS        0\n",
       "GROCERY I           0\n",
       "HOME CARE           0\n",
       "LIQUOR,WINE,BEER    0\n",
       "MEATS               0\n",
       "Others              0\n",
       "PERSONAL CARE       0\n",
       "POULTRY             0\n",
       "PREPARED FOODS      0\n",
       "PRODUCE             0\n",
       "dtype: int64"
      ]
     },
     "execution_count": 28,
     "metadata": {},
     "output_type": "execute_result"
    }
   ],
   "source": [
    "data.isna().sum()"
   ]
  },
  {
   "cell_type": "markdown",
   "metadata": {},
   "source": [
    "### Diving the data into train, validation and test based on dates"
   ]
  },
  {
   "cell_type": "code",
   "execution_count": 29,
   "metadata": {},
   "outputs": [],
   "source": [
    "data['date'] = pd.to_datetime(data['date'])\n",
    "train_startdate = data['date'] >= '2014-01-01'\n",
    "train_enddate = data['date'] <= '2016-12-31'\n",
    "train_duration = train_startdate & train_enddate\n",
    "traindata = data.loc[train_duration]\n",
    "\n",
    "val_startdate = data['date'] >= '2017-01-01'\n",
    "val_enddate = data['date'] <= '2017-03-31'\n",
    "val_duration = val_startdate & val_enddate\n",
    "val_data = data.loc[val_duration]\n",
    "\n",
    "test_startdate = data['date'] >= '2017-04-01'\n",
    "test_enddate = data['date'] <= '2017-04-15'\n",
    "test_duration = test_startdate & test_enddate\n",
    "test_data = data.loc[test_duration]\n"
   ]
  },
  {
   "cell_type": "code",
   "execution_count": 30,
   "metadata": {},
   "outputs": [
    {
     "data": {
      "text/html": [
       "<div>\n",
       "<style scoped>\n",
       "    .dataframe tbody tr th:only-of-type {\n",
       "        vertical-align: middle;\n",
       "    }\n",
       "\n",
       "    .dataframe tbody tr th {\n",
       "        vertical-align: top;\n",
       "    }\n",
       "\n",
       "    .dataframe thead th {\n",
       "        text-align: right;\n",
       "    }\n",
       "</style>\n",
       "<table border=\"1\" class=\"dataframe\">\n",
       "  <thead>\n",
       "    <tr style=\"text-align: right;\">\n",
       "      <th></th>\n",
       "      <th>date</th>\n",
       "      <th>unit_sales</th>\n",
       "      <th>not_promoted</th>\n",
       "      <th>promoted</th>\n",
       "      <th>Not Mentioned</th>\n",
       "      <th>day_of_month</th>\n",
       "      <th>day_of_week</th>\n",
       "      <th>day_of_year</th>\n",
       "      <th>month</th>\n",
       "      <th>year</th>\n",
       "      <th>...</th>\n",
       "      <th>FROZEN FOODS</th>\n",
       "      <th>GROCERY I</th>\n",
       "      <th>HOME CARE</th>\n",
       "      <th>LIQUOR,WINE,BEER</th>\n",
       "      <th>MEATS</th>\n",
       "      <th>Others</th>\n",
       "      <th>PERSONAL CARE</th>\n",
       "      <th>POULTRY</th>\n",
       "      <th>PREPARED FOODS</th>\n",
       "      <th>PRODUCE</th>\n",
       "    </tr>\n",
       "  </thead>\n",
       "  <tbody>\n",
       "    <tr>\n",
       "      <th>549820</th>\n",
       "      <td>2014-01-02</td>\n",
       "      <td>10.0</td>\n",
       "      <td>0</td>\n",
       "      <td>0</td>\n",
       "      <td>1</td>\n",
       "      <td>2</td>\n",
       "      <td>3</td>\n",
       "      <td>2</td>\n",
       "      <td>1</td>\n",
       "      <td>2014</td>\n",
       "      <td>...</td>\n",
       "      <td>0</td>\n",
       "      <td>0</td>\n",
       "      <td>0</td>\n",
       "      <td>0</td>\n",
       "      <td>0</td>\n",
       "      <td>0</td>\n",
       "      <td>0</td>\n",
       "      <td>0</td>\n",
       "      <td>0</td>\n",
       "      <td>0</td>\n",
       "    </tr>\n",
       "    <tr>\n",
       "      <th>549821</th>\n",
       "      <td>2014-01-02</td>\n",
       "      <td>24.0</td>\n",
       "      <td>0</td>\n",
       "      <td>0</td>\n",
       "      <td>1</td>\n",
       "      <td>2</td>\n",
       "      <td>3</td>\n",
       "      <td>2</td>\n",
       "      <td>1</td>\n",
       "      <td>2014</td>\n",
       "      <td>...</td>\n",
       "      <td>0</td>\n",
       "      <td>1</td>\n",
       "      <td>0</td>\n",
       "      <td>0</td>\n",
       "      <td>0</td>\n",
       "      <td>0</td>\n",
       "      <td>0</td>\n",
       "      <td>0</td>\n",
       "      <td>0</td>\n",
       "      <td>0</td>\n",
       "    </tr>\n",
       "    <tr>\n",
       "      <th>549822</th>\n",
       "      <td>2014-01-02</td>\n",
       "      <td>33.0</td>\n",
       "      <td>0</td>\n",
       "      <td>0</td>\n",
       "      <td>1</td>\n",
       "      <td>2</td>\n",
       "      <td>3</td>\n",
       "      <td>2</td>\n",
       "      <td>1</td>\n",
       "      <td>2014</td>\n",
       "      <td>...</td>\n",
       "      <td>0</td>\n",
       "      <td>1</td>\n",
       "      <td>0</td>\n",
       "      <td>0</td>\n",
       "      <td>0</td>\n",
       "      <td>0</td>\n",
       "      <td>0</td>\n",
       "      <td>0</td>\n",
       "      <td>0</td>\n",
       "      <td>0</td>\n",
       "    </tr>\n",
       "    <tr>\n",
       "      <th>549823</th>\n",
       "      <td>2014-01-02</td>\n",
       "      <td>9.0</td>\n",
       "      <td>0</td>\n",
       "      <td>0</td>\n",
       "      <td>1</td>\n",
       "      <td>2</td>\n",
       "      <td>3</td>\n",
       "      <td>2</td>\n",
       "      <td>1</td>\n",
       "      <td>2014</td>\n",
       "      <td>...</td>\n",
       "      <td>0</td>\n",
       "      <td>1</td>\n",
       "      <td>0</td>\n",
       "      <td>0</td>\n",
       "      <td>0</td>\n",
       "      <td>0</td>\n",
       "      <td>0</td>\n",
       "      <td>0</td>\n",
       "      <td>0</td>\n",
       "      <td>0</td>\n",
       "    </tr>\n",
       "    <tr>\n",
       "      <th>549824</th>\n",
       "      <td>2014-01-02</td>\n",
       "      <td>3.0</td>\n",
       "      <td>0</td>\n",
       "      <td>0</td>\n",
       "      <td>1</td>\n",
       "      <td>2</td>\n",
       "      <td>3</td>\n",
       "      <td>2</td>\n",
       "      <td>1</td>\n",
       "      <td>2014</td>\n",
       "      <td>...</td>\n",
       "      <td>0</td>\n",
       "      <td>1</td>\n",
       "      <td>0</td>\n",
       "      <td>0</td>\n",
       "      <td>0</td>\n",
       "      <td>0</td>\n",
       "      <td>0</td>\n",
       "      <td>0</td>\n",
       "      <td>0</td>\n",
       "      <td>0</td>\n",
       "    </tr>\n",
       "  </tbody>\n",
       "</table>\n",
       "<p>5 rows × 35 columns</p>\n",
       "</div>"
      ],
      "text/plain": [
       "             date  unit_sales  not_promoted  promoted  Not Mentioned  \\\n",
       "549820 2014-01-02        10.0             0         0              1   \n",
       "549821 2014-01-02        24.0             0         0              1   \n",
       "549822 2014-01-02        33.0             0         0              1   \n",
       "549823 2014-01-02         9.0             0         0              1   \n",
       "549824 2014-01-02         3.0             0         0              1   \n",
       "\n",
       "        day_of_month  day_of_week  day_of_year  month  year  ...  \\\n",
       "549820             2            3            2      1  2014  ...   \n",
       "549821             2            3            2      1  2014  ...   \n",
       "549822             2            3            2      1  2014  ...   \n",
       "549823             2            3            2      1  2014  ...   \n",
       "549824             2            3            2      1  2014  ...   \n",
       "\n",
       "        FROZEN FOODS  GROCERY I  HOME CARE  LIQUOR,WINE,BEER  MEATS  Others  \\\n",
       "549820             0          0          0                 0      0       0   \n",
       "549821             0          1          0                 0      0       0   \n",
       "549822             0          1          0                 0      0       0   \n",
       "549823             0          1          0                 0      0       0   \n",
       "549824             0          1          0                 0      0       0   \n",
       "\n",
       "        PERSONAL CARE  POULTRY  PREPARED FOODS  PRODUCE  \n",
       "549820              0        0               0        0  \n",
       "549821              0        0               0        0  \n",
       "549822              0        0               0        0  \n",
       "549823              0        0               0        0  \n",
       "549824              0        0               0        0  \n",
       "\n",
       "[5 rows x 35 columns]"
      ]
     },
     "execution_count": 30,
     "metadata": {},
     "output_type": "execute_result"
    }
   ],
   "source": [
    "traindata.head()"
   ]
  },
  {
   "cell_type": "code",
   "execution_count": 43,
   "metadata": {},
   "outputs": [
    {
     "data": {
      "text/plain": [
       "Index(['date', 'unit_sales', 'not_promoted', 'promoted', 'Not Mentioned',\n",
       "       'day_of_month', 'day_of_week', 'day_of_year', 'month', 'year',\n",
       "       'is_weekend', 'lag_1', 'lag_7', 'lag_30', 'rolling_mean_7',\n",
       "       'rolling_mean_30', 'rolling_mean_60', 'oil_price', 'day_type',\n",
       "       'BEVERAGES', 'BREAD/BAKERY', 'CLEANING', 'DAIRY', 'DELI', 'EGGS',\n",
       "       'FROZEN FOODS', 'GROCERY I', 'HOME CARE', 'LIQUOR,WINE,BEER', 'MEATS',\n",
       "       'Others', 'PERSONAL CARE', 'POULTRY', 'PREPARED FOODS', 'PRODUCE'],\n",
       "      dtype='object')"
      ]
     },
     "execution_count": 43,
     "metadata": {},
     "output_type": "execute_result"
    }
   ],
   "source": [
    "traindata.columns"
   ]
  },
  {
   "cell_type": "markdown",
   "metadata": {},
   "source": [
    "### Creating features for Baseline and Regression"
   ]
  },
  {
   "cell_type": "code",
   "execution_count": 31,
   "metadata": {},
   "outputs": [],
   "source": [
    "y_train = traindata.unit_sales\n",
    "X_train = traindata.drop(['unit_sales', 'date'], axis=1)\n",
    "\n",
    "y_val = val_data.unit_sales\n",
    "X_val = val_data.drop(['unit_sales', 'date'], axis=1)\n",
    "\n",
    "y_test = test_data.unit_sales\n",
    "X_test = test_data.drop(['unit_sales', 'date'], axis=1)\n"
   ]
  },
  {
   "cell_type": "markdown",
   "metadata": {},
   "source": [
    "## Modeling"
   ]
  },
  {
   "cell_type": "markdown",
   "metadata": {},
   "source": [
    "#### Defining performance metrics"
   ]
  },
  {
   "cell_type": "code",
   "execution_count": 32,
   "metadata": {},
   "outputs": [],
   "source": [
    "def get_model_performance(y_test, y_pred):\n",
    "\n",
    "    mae = round(metrics.mean_absolute_error(y_test, y_pred), 2)\n",
    "    mse = round(metrics.mean_squared_error(y_test, y_pred), 2)\n",
    "    rmse = round(np.sqrt(mse), 2)\n",
    "    r2 = round(metrics.r2_score(y_test,y_pred), 2)  \n",
    "    print(f\" MAE is {mae}\\n MSE is {mse} \\n RMSE is {rmse} \\n R square is {r2} \\n\")\n",
    "  \n",
    "def get_mape_wape(y_test, y_pred):\n",
    "    pred_df = pd.DataFrame({'target' : y_test, 'pred' : y_pred})\n",
    "    pred_df['weight'] = pred_df['target']/ sum(pred_df['target'])\n",
    "    pred_df['mape'] = abs(pred_df['target'] - pred_df['pred'])/pred_df['target']\n",
    "    pred_df['wmape'] = pred_df['weight']*pred_df['mape']\n",
    "    mape = round(pred_df['mape'].mean() * 100, 4)\n",
    "    wmape = round(pred_df['wmape'].sum()*100, 4)\n",
    "    return mape, wmape"
   ]
  },
  {
   "cell_type": "markdown",
   "metadata": {},
   "source": [
    "### Moving Average ( Baseline)"
   ]
  },
  {
   "cell_type": "code",
   "execution_count": 47,
   "metadata": {},
   "outputs": [
    {
     "data": {
      "text/plain": [
       "pandas.core.series.Series"
      ]
     },
     "execution_count": 47,
     "metadata": {},
     "output_type": "execute_result"
    }
   ],
   "source": [
    "type(y_test)"
   ]
  },
  {
   "cell_type": "code",
   "execution_count": 46,
   "metadata": {},
   "outputs": [
    {
     "ename": "KeyError",
     "evalue": "1",
     "output_type": "error",
     "traceback": [
      "\u001b[0;31m---------------------------------------------------------------------------\u001b[0m",
      "\u001b[0;31mKeyError\u001b[0m                                  Traceback (most recent call last)",
      "\u001b[0;32m~/miniconda3/envs/pytorch/lib/python3.7/site-packages/pandas/core/indexes/base.py\u001b[0m in \u001b[0;36mget_loc\u001b[0;34m(self, key, method, tolerance)\u001b[0m\n\u001b[1;32m   2888\u001b[0m             \u001b[0;32mtry\u001b[0m\u001b[0;34m:\u001b[0m\u001b[0;34m\u001b[0m\u001b[0;34m\u001b[0m\u001b[0m\n\u001b[0;32m-> 2889\u001b[0;31m                 \u001b[0;32mreturn\u001b[0m \u001b[0mself\u001b[0m\u001b[0;34m.\u001b[0m\u001b[0m_engine\u001b[0m\u001b[0;34m.\u001b[0m\u001b[0mget_loc\u001b[0m\u001b[0;34m(\u001b[0m\u001b[0mcasted_key\u001b[0m\u001b[0;34m)\u001b[0m\u001b[0;34m\u001b[0m\u001b[0;34m\u001b[0m\u001b[0m\n\u001b[0m\u001b[1;32m   2890\u001b[0m             \u001b[0;32mexcept\u001b[0m \u001b[0mKeyError\u001b[0m \u001b[0;32mas\u001b[0m \u001b[0merr\u001b[0m\u001b[0;34m:\u001b[0m\u001b[0;34m\u001b[0m\u001b[0;34m\u001b[0m\u001b[0m\n",
      "\u001b[0;32mpandas/_libs/index.pyx\u001b[0m in \u001b[0;36mpandas._libs.index.IndexEngine.get_loc\u001b[0;34m()\u001b[0m\n",
      "\u001b[0;32mpandas/_libs/index.pyx\u001b[0m in \u001b[0;36mpandas._libs.index.IndexEngine.get_loc\u001b[0;34m()\u001b[0m\n",
      "\u001b[0;31mKeyError\u001b[0m: 1",
      "\nThe above exception was the direct cause of the following exception:\n",
      "\u001b[0;31mKeyError\u001b[0m                                  Traceback (most recent call last)",
      "\u001b[0;32m<ipython-input-46-b4966cf7423f>\u001b[0m in \u001b[0;36m<module>\u001b[0;34m\u001b[0m\n\u001b[1;32m      1\u001b[0m \u001b[0mwindow\u001b[0m \u001b[0;34m=\u001b[0m \u001b[0;36m7\u001b[0m\u001b[0;34m\u001b[0m\u001b[0;34m\u001b[0m\u001b[0m\n\u001b[0;32m----> 2\u001b[0;31m \u001b[0mprint\u001b[0m\u001b[0;34m(\u001b[0m\u001b[0my_train\u001b[0m\u001b[0;34m[\u001b[0m\u001b[0;36m1\u001b[0m\u001b[0;34m]\u001b[0m\u001b[0;34m)\u001b[0m\u001b[0;34m\u001b[0m\u001b[0;34m\u001b[0m\u001b[0m\n\u001b[0m\u001b[1;32m      3\u001b[0m \u001b[0mhistory\u001b[0m \u001b[0;34m=\u001b[0m \u001b[0;34m[\u001b[0m\u001b[0my_train\u001b[0m\u001b[0;34m[\u001b[0m\u001b[0mi\u001b[0m\u001b[0;34m]\u001b[0m \u001b[0;32mfor\u001b[0m \u001b[0mi\u001b[0m \u001b[0;32min\u001b[0m \u001b[0mrange\u001b[0m\u001b[0;34m(\u001b[0m\u001b[0mwindow\u001b[0m\u001b[0;34m)\u001b[0m\u001b[0;34m]\u001b[0m\u001b[0;34m\u001b[0m\u001b[0;34m\u001b[0m\u001b[0m\n\u001b[1;32m      4\u001b[0m \u001b[0mtest\u001b[0m \u001b[0;34m=\u001b[0m \u001b[0;34m[\u001b[0m\u001b[0my_test\u001b[0m\u001b[0;34m[\u001b[0m\u001b[0mi\u001b[0m\u001b[0;34m]\u001b[0m \u001b[0;32mfor\u001b[0m \u001b[0mi\u001b[0m \u001b[0;32min\u001b[0m \u001b[0mrange\u001b[0m\u001b[0;34m(\u001b[0m\u001b[0mwindow\u001b[0m\u001b[0;34m,\u001b[0m \u001b[0mlen\u001b[0m\u001b[0;34m(\u001b[0m\u001b[0my_test\u001b[0m\u001b[0;34m)\u001b[0m\u001b[0;34m)\u001b[0m\u001b[0;34m]\u001b[0m\u001b[0;34m\u001b[0m\u001b[0;34m\u001b[0m\u001b[0m\n\u001b[1;32m      5\u001b[0m \u001b[0mpredictions\u001b[0m \u001b[0;34m=\u001b[0m \u001b[0mlist\u001b[0m\u001b[0;34m(\u001b[0m\u001b[0;34m)\u001b[0m\u001b[0;34m\u001b[0m\u001b[0;34m\u001b[0m\u001b[0m\n",
      "\u001b[0;32m~/miniconda3/envs/pytorch/lib/python3.7/site-packages/pandas/core/series.py\u001b[0m in \u001b[0;36m__getitem__\u001b[0;34m(self, key)\u001b[0m\n\u001b[1;32m    880\u001b[0m \u001b[0;34m\u001b[0m\u001b[0m\n\u001b[1;32m    881\u001b[0m         \u001b[0;32melif\u001b[0m \u001b[0mkey_is_scalar\u001b[0m\u001b[0;34m:\u001b[0m\u001b[0;34m\u001b[0m\u001b[0;34m\u001b[0m\u001b[0m\n\u001b[0;32m--> 882\u001b[0;31m             \u001b[0;32mreturn\u001b[0m \u001b[0mself\u001b[0m\u001b[0;34m.\u001b[0m\u001b[0m_get_value\u001b[0m\u001b[0;34m(\u001b[0m\u001b[0mkey\u001b[0m\u001b[0;34m)\u001b[0m\u001b[0;34m\u001b[0m\u001b[0;34m\u001b[0m\u001b[0m\n\u001b[0m\u001b[1;32m    883\u001b[0m \u001b[0;34m\u001b[0m\u001b[0m\n\u001b[1;32m    884\u001b[0m         if (\n",
      "\u001b[0;32m~/miniconda3/envs/pytorch/lib/python3.7/site-packages/pandas/core/series.py\u001b[0m in \u001b[0;36m_get_value\u001b[0;34m(self, label, takeable)\u001b[0m\n\u001b[1;32m    989\u001b[0m \u001b[0;34m\u001b[0m\u001b[0m\n\u001b[1;32m    990\u001b[0m         \u001b[0;31m# Similar to Index.get_value, but we do not fall back to positional\u001b[0m\u001b[0;34m\u001b[0m\u001b[0;34m\u001b[0m\u001b[0;34m\u001b[0m\u001b[0m\n\u001b[0;32m--> 991\u001b[0;31m         \u001b[0mloc\u001b[0m \u001b[0;34m=\u001b[0m \u001b[0mself\u001b[0m\u001b[0;34m.\u001b[0m\u001b[0mindex\u001b[0m\u001b[0;34m.\u001b[0m\u001b[0mget_loc\u001b[0m\u001b[0;34m(\u001b[0m\u001b[0mlabel\u001b[0m\u001b[0;34m)\u001b[0m\u001b[0;34m\u001b[0m\u001b[0;34m\u001b[0m\u001b[0m\n\u001b[0m\u001b[1;32m    992\u001b[0m         \u001b[0;32mreturn\u001b[0m \u001b[0mself\u001b[0m\u001b[0;34m.\u001b[0m\u001b[0mindex\u001b[0m\u001b[0;34m.\u001b[0m\u001b[0m_get_values_for_loc\u001b[0m\u001b[0;34m(\u001b[0m\u001b[0mself\u001b[0m\u001b[0;34m,\u001b[0m \u001b[0mloc\u001b[0m\u001b[0;34m,\u001b[0m \u001b[0mlabel\u001b[0m\u001b[0;34m)\u001b[0m\u001b[0;34m\u001b[0m\u001b[0;34m\u001b[0m\u001b[0m\n\u001b[1;32m    993\u001b[0m \u001b[0;34m\u001b[0m\u001b[0m\n",
      "\u001b[0;32m~/miniconda3/envs/pytorch/lib/python3.7/site-packages/pandas/core/indexes/base.py\u001b[0m in \u001b[0;36mget_loc\u001b[0;34m(self, key, method, tolerance)\u001b[0m\n\u001b[1;32m   2889\u001b[0m                 \u001b[0;32mreturn\u001b[0m \u001b[0mself\u001b[0m\u001b[0;34m.\u001b[0m\u001b[0m_engine\u001b[0m\u001b[0;34m.\u001b[0m\u001b[0mget_loc\u001b[0m\u001b[0;34m(\u001b[0m\u001b[0mcasted_key\u001b[0m\u001b[0;34m)\u001b[0m\u001b[0;34m\u001b[0m\u001b[0;34m\u001b[0m\u001b[0m\n\u001b[1;32m   2890\u001b[0m             \u001b[0;32mexcept\u001b[0m \u001b[0mKeyError\u001b[0m \u001b[0;32mas\u001b[0m \u001b[0merr\u001b[0m\u001b[0;34m:\u001b[0m\u001b[0;34m\u001b[0m\u001b[0;34m\u001b[0m\u001b[0m\n\u001b[0;32m-> 2891\u001b[0;31m                 \u001b[0;32mraise\u001b[0m \u001b[0mKeyError\u001b[0m\u001b[0;34m(\u001b[0m\u001b[0mkey\u001b[0m\u001b[0;34m)\u001b[0m \u001b[0;32mfrom\u001b[0m \u001b[0merr\u001b[0m\u001b[0;34m\u001b[0m\u001b[0;34m\u001b[0m\u001b[0m\n\u001b[0m\u001b[1;32m   2892\u001b[0m \u001b[0;34m\u001b[0m\u001b[0m\n\u001b[1;32m   2893\u001b[0m         \u001b[0;32mif\u001b[0m \u001b[0mtolerance\u001b[0m \u001b[0;32mis\u001b[0m \u001b[0;32mnot\u001b[0m \u001b[0;32mNone\u001b[0m\u001b[0;34m:\u001b[0m\u001b[0;34m\u001b[0m\u001b[0;34m\u001b[0m\u001b[0m\n",
      "\u001b[0;31mKeyError\u001b[0m: 1"
     ]
    }
   ],
   "source": [
    "window = 7\n",
    "print(y_train[1])\n",
    "history = [y_train[i] for i in range(window)]\n",
    "test = [y_test[i] for i in range(window, len(y_test))]\n",
    "predictions = list()\n",
    "# walk forward over time steps in test\n",
    "for t in range(len(test)):\n",
    "    length = len(history)\n",
    "    yhat = mean([history[i] for i in range(length-window,length)])\n",
    "    obs = test[t]\n",
    "    predictions.append(yhat)\n",
    "    history.append(obs)\n",
    "\n",
    "error = get_model_performance(test, predictions)\n",
    "\n",
    "# plot\n",
    "plt.plot(test)\n",
    "plt.plot(predictions, color='red')\n",
    "plt.show()\n",
    "# zoom plot\n",
    "plt.plot(test[0:100])\n",
    "plt.plot(predictions[0:100], color='red')\n",
    "plt.title(\"Actual vs Prediction on Baseline\")\n",
    "plt.xlabel(\"First 100 predictions\")\n",
    "plt.ylabel(\"Unit Sales\")\n",
    "plt.show()"
   ]
  },
  {
   "cell_type": "markdown",
   "metadata": {},
   "source": [
    "### SGD"
   ]
  },
  {
   "cell_type": "code",
   "execution_count": 48,
   "metadata": {},
   "outputs": [
    {
     "data": {
      "text/plain": [
       "Pipeline(steps=[('standardscaler', StandardScaler()),\n",
       "                ('sgdregressor', SGDRegressor())])"
      ]
     },
     "execution_count": 48,
     "metadata": {},
     "output_type": "execute_result"
    }
   ],
   "source": [
    "sgd_reg = make_pipeline(StandardScaler(),SGDRegressor(max_iter=1000, tol=1e-3))\n",
    "sgd_reg.fit(X_train, y_train)"
   ]
  },
  {
   "cell_type": "code",
   "execution_count": 50,
   "metadata": {},
   "outputs": [
    {
     "name": "stdout",
     "output_type": "stream",
     "text": [
      " MAE is 5.76\n",
      " MSE is 172.05 \n",
      " RMSE is 13.12 \n",
      " R square is 0.57 \n",
      "\n",
      "MAPE is 76.7786, WMAPE is 44.5987\n"
     ]
    }
   ],
   "source": [
    "sgd_pred = sgd_reg.predict(X_test)\n",
    "get_model_performance(y_test, sgd_pred)\n",
    "mape, wmape = get_mape_wape(y_test, sgd_pred)\n",
    "print(f\"MAPE is {mape}, WMAPE is {wmape}\")"
   ]
  },
  {
   "cell_type": "markdown",
   "metadata": {},
   "source": [
    "### LSTM"
   ]
  },
  {
   "cell_type": "code",
   "execution_count": 143,
   "metadata": {},
   "outputs": [],
   "source": [
    "# Drop date and convert dataframes to list of lists\n",
    "traindata = traindata.drop(['date'], axis=1)\n",
    "val_data = val_data.drop(['date'], axis=1)\n",
    "test_data = test_data.drop(['date'], axis=1)\n",
    "\n",
    "train_list = traindata.values.tolist()\n",
    "val_list = val_data.values.tolist()\n",
    "test_list = test_data.values.tolist()"
   ]
  },
  {
   "cell_type": "markdown",
   "metadata": {},
   "source": [
    "#### Defning Model"
   ]
  },
  {
   "cell_type": "code",
   "execution_count": 173,
   "metadata": {},
   "outputs": [],
   "source": [
    "\n",
    "class LSTMModel(pl.LightningModule):\n",
    "    def __init__(self, input_size=33, hidden_size=50, output_size=1, num_layers=1):\n",
    "        super().__init__()\n",
    "        self.input_size = input_size\n",
    "        self.hidden_size = hidden_size\n",
    "        self.output_size = output_size\n",
    "        self.num_layers = num_layers\n",
    "        self.lstm = nn.LSTM(self.input_size, self.hidden_size, self.num_layers)\n",
    "        self.linear = nn.Linear(self.hidden_size, self.output_size)\n",
    "\n",
    "\n",
    "    def forward(self, x):\n",
    "        x = torch.unsqueeze(x, dim=0) # 32x26x1 (seq_len * batch_size * input_size)\n",
    "        _, (h_n, _) = self.lstm(x)  # 26x50x1 (input_size * hidden_size * num_layers)\n",
    "        h_n = torch.squeeze(h_n)\n",
    "        h_n = F.relu(h_n) \n",
    "        h_n = self.linear(h_n)\n",
    "        return h_n\n",
    "    \n",
    "    def configure_optimizers(self):\n",
    "        optimizer = torch.optim.Adam(self.parameters(), lr=1e-2)\n",
    "        return optimizer\n",
    "    \n",
    "    def training_step(self, batch, batch_idx):\n",
    "        x, y = batch\n",
    "        y_hat = self(x)\n",
    "        loss = nn.MSELoss()\n",
    "        train_loss = loss(torch.flatten(y_hat), y)\n",
    "        self.log(\"Train loss\", train_loss, prog_bar=True, on_epoch=True)\n",
    "        return train_loss\n",
    "    \n",
    "    def validation_step(self, batch, batch_idx):\n",
    "        x, y = batch\n",
    "        y_hat = self(x)\n",
    "        y_hat = torch.flatten(y_hat)\n",
    "        loss = nn.MSELoss()\n",
    "        val_loss = loss(y_hat, y)\n",
    "        self.log(\"Validation loss\", val_loss, prog_bar=True, on_epoch=True)\n",
    "        \n",
    "        return {'y': y, 'y_hat': y_hat}\n",
    "    \n",
    "    \n",
    "    def validation_epoch_end(self, validation_step_outputs):\n",
    "        \n",
    "        y_test, y_pred = [], []\n",
    "        \n",
    "        for val_step_op in validation_step_outputs:\n",
    "            y_test.extend(val_step_op['y'].tolist())\n",
    "            y_pred.extend(val_step_op['y_hat'].tolist())\n",
    "                 \n",
    "        mape, wape = get_mape_wape(y_test, y_pred)\n",
    "        self.log(\"Val epoch mape\", mape, prog_bar= True, on_epoch=True)\n",
    "        self.log(\"Val epoch wape\", wape, prog_bar= True, on_epoch=True)\n",
    "            \n",
    "    \n",
    "    def test_step(self, batch, batch_idx):\n",
    "        x, y = batch\n",
    "        y_hat = self(x)\n",
    "        loss = nn.MSELoss()\n",
    "        test_loss = loss(torch.flatten(y_hat), y)\n",
    "        self.log(\"Test loss\", test_loss, prog_bar=True, on_epoch=True)\n",
    "        return test_loss\n",
    "    \n",
    "    \n",
    "    def test_epoch_end(self, test_step_outputs):\n",
    "        \n",
    "        y_test, y_pred = [], []\n",
    "        \n",
    "        for val_step_op in validation_step_outputs:\n",
    "            y_test.extend(val_step_op['y'].tolist())\n",
    "            y_pred.extend(val_step_op['y_hat'].tolist())\n",
    "                 \n",
    "        mape, wape = get_mape_wape(y_test, y_pred)\n",
    "        self.log(\"Val epoch mape\", mape, prog_bar= True, on_epoch=True)\n",
    "        self.log(\"Val epoch wape\", wape, prog_bar= True, on_epoch=True)"
   ]
  },
  {
   "cell_type": "markdown",
   "metadata": {},
   "source": [
    "#### Create dataloader"
   ]
  },
  {
   "cell_type": "code",
   "execution_count": 174,
   "metadata": {},
   "outputs": [],
   "source": [
    "def collate_fn(batch):\n",
    "    labels = []\n",
    "    features = []\n",
    "    for row in batch:\n",
    "        labels.append(row[0])\n",
    "        features.append(row[1:])\n",
    "    return torch.Tensor(features), torch.Tensor(labels)\n",
    "\n",
    "\n",
    "train_dl = DataLoader(train_list, batch_size=32, shuffle=True, collate_fn=collate_fn)\n",
    "val_dl = DataLoader(val_list, batch_size=32, shuffle=False, collate_fn=collate_fn)\n",
    "test_dl = DataLoader(test_list, batch_size=32, shuffle=False, collate_fn=collate_fn)\n"
   ]
  },
  {
   "cell_type": "markdown",
   "metadata": {},
   "source": [
    "#### Training Model"
   ]
  },
  {
   "cell_type": "code",
   "execution_count": null,
   "metadata": {},
   "outputs": [
    {
     "name": "stderr",
     "output_type": "stream",
     "text": [
      "GPU available: False, used: False\n",
      "TPU available: False, using: 0 TPU cores\n",
      "IPU available: False, using: 0 IPUs\n",
      "\n",
      "  | Name   | Type   | Params\n",
      "----------------------------------\n",
      "0 | lstm   | LSTM   | 17.0 K\n",
      "1 | linear | Linear | 51    \n",
      "----------------------------------\n",
      "17.1 K    Trainable params\n",
      "0         Non-trainable params\n",
      "17.1 K    Total params\n",
      "0.068     Total estimated model params size (MB)\n"
     ]
    },
    {
     "data": {
      "application/vnd.jupyter.widget-view+json": {
       "model_id": "",
       "version_major": 2,
       "version_minor": 0
      },
      "text/plain": [
       "Validation sanity check: 0it [00:00, ?it/s]"
      ]
     },
     "metadata": {},
     "output_type": "display_data"
    },
    {
     "data": {
      "application/vnd.jupyter.widget-view+json": {
       "model_id": "70014437fb3943b190f6364e7da6e250",
       "version_major": 2,
       "version_minor": 0
      },
      "text/plain": [
       "Training: -1it [00:00, ?it/s]"
      ]
     },
     "metadata": {},
     "output_type": "display_data"
    },
    {
     "data": {
      "application/vnd.jupyter.widget-view+json": {
       "model_id": "",
       "version_major": 2,
       "version_minor": 0
      },
      "text/plain": [
       "Validating: 0it [00:00, ?it/s]"
      ]
     },
     "metadata": {},
     "output_type": "display_data"
    },
    {
     "data": {
      "application/vnd.jupyter.widget-view+json": {
       "model_id": "",
       "version_major": 2,
       "version_minor": 0
      },
      "text/plain": [
       "Validating: 0it [00:00, ?it/s]"
      ]
     },
     "metadata": {},
     "output_type": "display_data"
    },
    {
     "data": {
      "application/vnd.jupyter.widget-view+json": {
       "model_id": "",
       "version_major": 2,
       "version_minor": 0
      },
      "text/plain": [
       "Validating: 0it [00:00, ?it/s]"
      ]
     },
     "metadata": {},
     "output_type": "display_data"
    },
    {
     "data": {
      "application/vnd.jupyter.widget-view+json": {
       "model_id": "",
       "version_major": 2,
       "version_minor": 0
      },
      "text/plain": [
       "Validating: 0it [00:00, ?it/s]"
      ]
     },
     "metadata": {},
     "output_type": "display_data"
    },
    {
     "data": {
      "application/vnd.jupyter.widget-view+json": {
       "model_id": "",
       "version_major": 2,
       "version_minor": 0
      },
      "text/plain": [
       "Validating: 0it [00:00, ?it/s]"
      ]
     },
     "metadata": {},
     "output_type": "display_data"
    },
    {
     "data": {
      "application/vnd.jupyter.widget-view+json": {
       "model_id": "",
       "version_major": 2,
       "version_minor": 0
      },
      "text/plain": [
       "Validating: 0it [00:00, ?it/s]"
      ]
     },
     "metadata": {},
     "output_type": "display_data"
    },
    {
     "data": {
      "application/vnd.jupyter.widget-view+json": {
       "model_id": "",
       "version_major": 2,
       "version_minor": 0
      },
      "text/plain": [
       "Validating: 0it [00:00, ?it/s]"
      ]
     },
     "metadata": {},
     "output_type": "display_data"
    },
    {
     "data": {
      "application/vnd.jupyter.widget-view+json": {
       "model_id": "",
       "version_major": 2,
       "version_minor": 0
      },
      "text/plain": [
       "Validating: 0it [00:00, ?it/s]"
      ]
     },
     "metadata": {},
     "output_type": "display_data"
    },
    {
     "data": {
      "application/vnd.jupyter.widget-view+json": {
       "model_id": "",
       "version_major": 2,
       "version_minor": 0
      },
      "text/plain": [
       "Validating: 0it [00:00, ?it/s]"
      ]
     },
     "metadata": {},
     "output_type": "display_data"
    },
    {
     "data": {
      "application/vnd.jupyter.widget-view+json": {
       "model_id": "",
       "version_major": 2,
       "version_minor": 0
      },
      "text/plain": [
       "Validating: 0it [00:00, ?it/s]"
      ]
     },
     "metadata": {},
     "output_type": "display_data"
    },
    {
     "data": {
      "application/vnd.jupyter.widget-view+json": {
       "model_id": "",
       "version_major": 2,
       "version_minor": 0
      },
      "text/plain": [
       "Validating: 0it [00:00, ?it/s]"
      ]
     },
     "metadata": {},
     "output_type": "display_data"
    },
    {
     "data": {
      "application/vnd.jupyter.widget-view+json": {
       "model_id": "",
       "version_major": 2,
       "version_minor": 0
      },
      "text/plain": [
       "Validating: 0it [00:00, ?it/s]"
      ]
     },
     "metadata": {},
     "output_type": "display_data"
    },
    {
     "data": {
      "application/vnd.jupyter.widget-view+json": {
       "model_id": "",
       "version_major": 2,
       "version_minor": 0
      },
      "text/plain": [
       "Validating: 0it [00:00, ?it/s]"
      ]
     },
     "metadata": {},
     "output_type": "display_data"
    }
   ],
   "source": [
    "tb_logger = pl_loggers.TensorBoardLogger(\"logs/\")\n",
    "\n",
    "model = LSTMModel()\n",
    "trainer = pl.Trainer(logger=tb_logger)\n",
    "trainer.fit(model, train_dl, val_dl)\n",
    "trainer.test(model, test_dl)"
   ]
  },
  {
   "cell_type": "markdown",
   "metadata": {},
   "source": [
    "### Aggregating the results from different Models"
   ]
  },
  {
   "cell_type": "code",
   "execution_count": 7,
   "metadata": {},
   "outputs": [
    {
     "data": {
      "text/plain": [
       "Text(0, 0.5, 'Mean Absolute Percentage Error')"
      ]
     },
     "execution_count": 7,
     "metadata": {},
     "output_type": "execute_result"
    },
    {
     "data": {
      "image/png": "[encoded data removed]",
      "text/plain": [
       "<Figure size 432x288 with 1 Axes>"
      ]
     },
     "metadata": {
      "needs_background": "light"
     },
     "output_type": "display_data"
    }
   ],
   "source": [
    "x = ['MA (Baseline)', 'LSTM', 'LightGBM']\n",
    "y = [1.33, 0.606, 0.423]\n",
    "\n",
    "plt.bar(x, y)\n",
    "plt.xlabel(\"Models\")\n",
    "plt.ylabel(\"Mean Absolute Percentage Error\")\n"
   ]
  },
  {
   "cell_type": "code",
   "execution_count": null,
   "metadata": {},
   "outputs": [],
   "source": []
  }
 ],
 "metadata": {
  "kernelspec": {
   "display_name": "Python 3",
   "language": "python",
   "name": "python3"
  },
  "language_info": {
   "codemirror_mode": {
    "name": "ipython",
    "version": 3
   },
   "file_extension": ".py",
   "mimetype": "text/x-python",
   "name": "python",
   "nbconvert_exporter": "python",
   "pygments_lexer": "ipython3",
   "version": "3.7.7"
  }
 },
 "nbformat": 4,
 "nbformat_minor": 4
}
